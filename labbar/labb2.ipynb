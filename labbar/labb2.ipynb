{
 "cells": [
  {
   "cell_type": "code",
   "execution_count": 8,
   "metadata": {},
   "outputs": [
    {
     "name": "stdout",
     "output_type": "stream",
     "text": [
      "Connecting to database using URL string:\n",
      "mssql+pyodbc://?odbc_connect=DRIVER=ODBC+Driver+17+for+SQL+Server;SERVER=localhost;DATABASE=AI22;UID=sa;PWD=ThisIsHardToGuess \n",
      "\n",
      "Successfully connected to AI22!\n"
     ]
    }
   ],
   "source": [
    "from sqlalchemy import create_engine\n",
    "from sqlalchemy.engine import URL\n",
    "from urllib.parse import unquote\n",
    "\n",
    "server_name = 'localhost'\n",
    "database_name = 'AI22'\n",
    "username = 'sa'\n",
    "password = 'ThisIsHardToGuess'\n",
    "\n",
    "connection_string = f\"DRIVER=ODBC Driver 17 for SQL Server;SERVER={server_name};DATABASE={database_name};UID={username};PWD={password}\"\n",
    "url_string        = URL.create(\"mssql+pyodbc\", query={\"odbc_connect\": connection_string})\n",
    "\n",
    "print('Connecting to database using URL string:')\n",
    "unquoted_url = unquote(str(url_string))\n",
    "print(unquoted_url, '\\n')\n",
    "\n",
    "try:    \n",
    "    engine = create_engine(url_string)\n",
    "    with engine.connect() as connection:\n",
    "        print(f'Successfully connected to {database_name}!')\n",
    "except Exception as e:\n",
    "    print('Error while connecting to database:\\n')\n",
    "    print(e)\n"
   ]
  },
  {
   "cell_type": "code",
   "execution_count": 15,
   "metadata": {},
   "outputs": [
    {
     "name": "stdout",
     "output_type": "stream",
     "text": [
      "TITLE                                   ISBN13                                  LANGUAGE                                PRICE_$                                 RELEASEDATE                             \n",
      "The Alchemist                           978-0062315007                          English                                 16.99                                   1988-01-01                              \n",
      "Pride and Prejudice                     978-0141439518                          English                                 7.99                                    1813-01-28                              \n",
      "The Girl With The Dragon Tattoo         978-0307473479                          English                                 11.99                                   2005-08-01                              \n",
      "The Catcher in the Rye                  978-0316769488                          English                                 8.99                                    1951-07-16                              \n",
      "The Hunger Games                        978-0439023528                          English                                 10.99                                   2008-09-14                              \n",
      "To Kill a Mockingbird                   978-0446310789                          English                                 8.99                                    1960-07-11                              \n",
      "1984                                    978-0451524935                          English                                 9.99                                    1049-06-08                              \n",
      "The Lord of the Rings                   978-0544003415                          English                                 22.99                                   1954-07-29                              \n",
      "The Hobbit                              978-0547928227                          English                                 8.99                                    2006-04-25                              \n",
      "The Great Gatsby                        978-0743273565                          English                                 15.0                                    1925-04-10                              \n",
      "The Da Vinci Code                       978-1400079179                          English                                 9.99                                    2003-03-18                              \n"
     ]
    }
   ],
   "source": [
    "from sqlalchemy import text\n",
    "\n",
    "query = text(\"SELECT title, isbn13, language, price_$, releaseDate FROM Books\")\n",
    "\n",
    "with engine.connect() as conn:\n",
    "    result = conn.execute(query)\n",
    "    for column_name in result.keys():\n",
    "        print(column_name.upper().ljust(40), end='')\n",
    "    \n",
    "    print()\n",
    "\n",
    "    for row in result:\n",
    "        for field in row:\n",
    "            print(str(field).ljust(40), end='')\n",
    "        \n",
    "        print()"
   ]
  },
  {
   "cell_type": "code",
   "execution_count": 17,
   "metadata": {},
   "outputs": [
    {
     "name": "stdout",
     "output_type": "stream",
     "text": [
      "TITLE                                   ISBN13                                  LANGUAGE                                PRICE_$                                 RELEASEDATE                             \n",
      "The Alchemist                           978-0062315007                          English                                 16.99                                   1988-01-01                              \n",
      "The Girl With The Dragon Tattoo         978-0307473479                          English                                 11.99                                   2005-08-01                              \n",
      "The Catcher in the Rye                  978-0316769488                          English                                 8.99                                    1951-07-16                              \n",
      "The Hunger Games                        978-0439023528                          English                                 10.99                                   2008-09-14                              \n",
      "The Lord of the Rings                   978-0544003415                          English                                 22.99                                   1954-07-29                              \n",
      "The Hobbit                              978-0547928227                          English                                 8.99                                    2006-04-25                              \n",
      "The Great Gatsby                        978-0743273565                          English                                 15.0                                    1925-04-10                              \n",
      "The Da Vinci Code                       978-1400079179                          English                                 9.99                                    2003-03-18                              \n"
     ]
    }
   ],
   "source": [
    "search_string = input(\"search books: \")\n",
    "\n",
    "query = f\"\"\"\n",
    "    SELECT \n",
    "        title, \n",
    "        isbn13, \n",
    "        language, \n",
    "        price_$, \n",
    "        releaseDate \n",
    "    FROM \n",
    "        Books \n",
    "    where \n",
    "        title like '%' + :title + '%'\n",
    "\"\"\"\n",
    "with engine.connect() as conn:    \n",
    "    result = conn.execute(text(query), {'title' : search_string})\n",
    "    for column_name in result.keys():\n",
    "        print(column_name.upper().ljust(40), end='')\n",
    "    print()\n",
    "    \n",
    "    for row in result:\n",
    "        for field in row:\n",
    "            print(str(field).ljust(40), end='')\n",
    "        \n",
    "        print()\n"
   ]
  }
 ],
 "metadata": {
  "kernelspec": {
   "display_name": "database-sql-1-i4HCXz8f",
   "language": "python",
   "name": "python3"
  },
  "language_info": {
   "codemirror_mode": {
    "name": "ipython",
    "version": 3
   },
   "file_extension": ".py",
   "mimetype": "text/x-python",
   "name": "python",
   "nbconvert_exporter": "python",
   "pygments_lexer": "ipython3",
   "version": "3.9.13"
  },
  "orig_nbformat": 4
 },
 "nbformat": 4,
 "nbformat_minor": 2
}
